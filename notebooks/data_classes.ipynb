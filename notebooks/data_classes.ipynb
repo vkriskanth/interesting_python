{
 "cells": [
  {
   "cell_type": "code",
   "execution_count": 1,
   "id": "ec31ebf2-f598-40b1-86aa-bb30ddc1c8f6",
   "metadata": {},
   "outputs": [],
   "source": [
    "import random"
   ]
  },
  {
   "cell_type": "code",
   "execution_count": 2,
   "id": "2a6d3e08-6582-44fc-9bde-49be43abdb38",
   "metadata": {},
   "outputs": [],
   "source": [
    "class Dwarf(object):\n",
    "    def __init__(self, name):\n",
    "        self.name = name\n",
    "        self.attack = 3\n",
    "        self.defend = 4\n",
    "        self.move = 2\n",
    "        self.body = 5\n",
    "\n",
    "    def talk(self):\n",
    "        print(\"I am a blade-man, I will cut ya!!!\")\n",
    "        "
   ]
  },
  {
   "cell_type": "code",
   "execution_count": 4,
   "id": "be71b4a9-7170-46ff-93f6-9e2f580e62a9",
   "metadata": {},
   "outputs": [
    {
     "name": "stdout",
     "output_type": "stream",
     "text": [
      "Dwarf name = Lenn\n",
      "Lenn's attack strength =  3\n"
     ]
    }
   ],
   "source": [
    "lenn = Dwarf(\"Lenn\")\n",
    "print(f\"Dwarf name = {lenn.name}\")\n",
    "print(f\"Lenn's attack strength =  {lenn.attack}\")\n"
   ]
  },
  {
   "cell_type": "code",
   "execution_count": 5,
   "id": "dbf03f96-8a2f-4fb5-8b3d-8f0bfc3b3840",
   "metadata": {},
   "outputs": [
    {
     "name": "stdout",
     "output_type": "stream",
     "text": [
      "I am a blade-man, I will cut ya!!!\n"
     ]
    }
   ],
   "source": [
    "lenn.talk()"
   ]
  },
  {
   "cell_type": "code",
   "execution_count": 6,
   "id": "22398edb-2c09-423a-8de3-7f31d188c43b",
   "metadata": {},
   "outputs": [
    {
     "name": "stdout",
     "output_type": "stream",
     "text": [
      "Elf name: = Esseden\n",
      "Esseden body value  = 4\n"
     ]
    }
   ],
   "source": [
    "class Elf(object):\n",
    "    pointed_ears = True\n",
    "\n",
    "    def __init__(self, name):\n",
    "        self.name = name\n",
    "        self.attack = 4\n",
    "        self.defend = 4\n",
    "        self.move = 4\n",
    "        self.body = 4\n",
    "\n",
    "esseden = Elf(\"Esseden\")\n",
    "print(f\"Elf name: = {esseden.name}\")\n",
    "print(f\"Esseden body value  = {esseden.body}\")\n"
   ]
  },
  {
   "cell_type": "code",
   "execution_count": 7,
   "id": "4f85960a-f9a5-4106-a20c-d79bb4bb2013",
   "metadata": {},
   "outputs": [
    {
     "name": "stdout",
     "output_type": "stream",
     "text": [
      "Lenn attack roll = 1\n",
      "Esseden defend roll = 2\n",
      "Esseden current body value = 4\n"
     ]
    }
   ],
   "source": [
    "lenn_attack_roll = random.randrange(1, lenn.attack + 1)\n",
    "print(f\"Lenn attack roll = {lenn_attack_roll}\")\n",
    "\n",
    "esseden_defend_roll = random.randrange(1, esseden.defend + 1)\n",
    "print(f\"Esseden defend roll = {esseden_defend_roll}\")\n",
    "\n",
    "damage = lenn_attack_roll - esseden_defend_roll\n",
    "if damage > 0:\n",
    "    esseden.body -= damage\n",
    "\n",
    "print(f\"Esseden current body value = {esseden.body}\")"
   ]
  },
  {
   "cell_type": "code",
   "execution_count": 11,
   "id": "324046b8-4fbb-428c-8706-37e1410edfe7",
   "metadata": {},
   "outputs": [],
   "source": [
    "class Elden(Elf):\n",
    "    def __init__(self, name):\n",
    "        Elf.__init__(Elf, name)\n",
    "        self.arrows = 24\n",
    "\n",
    "    def fire_arrow(self):\n",
    "        if self.arrows > 0:\n",
    "            self.arrows -= 1\n",
    "            print(f\"\\nPphssssstttttt!\")\n",
    "            print(f\"{self.name} arrows remaining = {self.arrows}\")\n",
    "        else:\n",
    "            print(\"\\n Arrows depleted\")"
   ]
  },
  {
   "cell_type": "code",
   "execution_count": 12,
   "id": "7688ef96-8360-470e-b199-9852258c512e",
   "metadata": {},
   "outputs": [
    {
     "name": "stdout",
     "output_type": "stream",
     "text": [
      "Elden name: = Legolas\n",
      "\n",
      "Pphssssstttttt!\n",
      "Legolas arrows remaining = 23\n"
     ]
    }
   ],
   "source": [
    "legolas = Elden(\"Legolas\")\n",
    "print(f\"Elden name: = {legolas.name}\")\n",
    "legolas.fire_arrow()"
   ]
  },
  {
   "cell_type": "code",
   "execution_count": 13,
   "id": "c5e8e1c2-2308-49c0-a061-abc64b3093e4",
   "metadata": {},
   "outputs": [],
   "source": [
    "class Elden(Elf):\n",
    "    def __init__(self, name):\n",
    "        Elf.__init__(Elf, name)"
   ]
  },
  {
   "cell_type": "code",
   "execution_count": 14,
   "id": "e91a450a-bca0-4f73-b75d-ce3fde5224c2",
   "metadata": {},
   "outputs": [],
   "source": [
    "class Elden(Elf):\n",
    "    def __init__(self, name):\n",
    "        super().__init__(name)"
   ]
  },
  {
   "cell_type": "code",
   "execution_count": 15,
   "id": "3df5d7ae-753f-4f5a-8371-07d9514bbfcb",
   "metadata": {},
   "outputs": [],
   "source": [
    "def square_it(x):\n",
    "    return x**2\n",
    "\n",
    "def square_it_again(func):\n",
    "    def wrapper(*args, **kwargs):\n",
    "        result = (func(*args, **kwargs))**2 \n",
    "        return result\n",
    "    return wrapper "
   ]
  },
  {
   "cell_type": "code",
   "execution_count": 16,
   "id": "1cfa6e5b-b123-4218-98c8-2f5bcbfe77e4",
   "metadata": {},
   "outputs": [
    {
     "name": "stdout",
     "output_type": "stream",
     "text": [
      "<class 'function'>\n"
     ]
    }
   ],
   "source": [
    "square = square_it_again(square_it)\n",
    "print(type(square))"
   ]
  },
  {
   "cell_type": "code",
   "execution_count": 17,
   "id": "59f330e0-a070-41ce-8281-428d1a8e9a93",
   "metadata": {},
   "outputs": [
    {
     "name": "stdout",
     "output_type": "stream",
     "text": [
      "81\n"
     ]
    }
   ],
   "source": [
    "print(square(3))"
   ]
  },
  {
   "cell_type": "code",
   "execution_count": 19,
   "id": "a1f34ed7-0b80-4b36-83a6-d1a215b56e22",
   "metadata": {},
   "outputs": [
    {
     "name": "stdout",
     "output_type": "stream",
     "text": [
      "81\n"
     ]
    }
   ],
   "source": [
    "def square_it_again(func):\n",
    "    def wrapper(*args, **kwargs):\n",
    "        result = (func(*args, **kwargs))**2 \n",
    "        return result\n",
    "    return wrapper       \n",
    "\n",
    "@square_it_again\n",
    "def square_it(x):\n",
    "    return x**2\n",
    "\n",
    "print(square_it(3))"
   ]
  },
  {
   "cell_type": "code",
   "execution_count": 20,
   "id": "b791e6fa-35a3-46c3-9c49-7b053a4d0818",
   "metadata": {},
   "outputs": [],
   "source": [
    "class Ship:\n",
    "    def __init__(self, name, classification, registry, location):\n",
    "        self.name = name\n",
    "        self.classification = classification\n",
    "        self.registry = registry\n",
    "        self.location = location\n",
    "        self.obj_type = 'ship'\n",
    "        self.obj_color = 'black'"
   ]
  },
  {
   "cell_type": "code",
   "execution_count": 21,
   "id": "8d3686de-977e-4730-ab49-8ee92b899d2e",
   "metadata": {},
   "outputs": [
    {
     "name": "stdout",
     "output_type": "stream",
     "text": [
      "<__main__.Ship object at 0x7fed89677280>\n"
     ]
    }
   ],
   "source": [
    "garcia = Ship('Garcia', 'frigate', 'USA', (20, 15))\n",
    "print(garcia)"
   ]
  },
  {
   "cell_type": "code",
   "execution_count": 27,
   "id": "6661123a-ed45-4b21-88fe-3481d6d8b286",
   "metadata": {},
   "outputs": [],
   "source": [
    "from math import dist\n",
    "from dataclasses import dataclass\n",
    "\n",
    "@dataclass\n",
    "class Ship:\n",
    "    name: str\n",
    "    classification: str\n",
    "    registry: str\n",
    "    location: tuple\n",
    "    obj_type = 'ship'\n",
    "    obj_color = 'black'\n",
    "\n",
    "    def distance_to(self, other):\n",
    "        distance = round(dist(self.location, other.location), 2)\n",
    "        return str(distance) + ' ' + 'km'"
   ]
  },
  {
   "cell_type": "code",
   "execution_count": 28,
   "id": "249de588-be67-4539-a8cf-7135a6c7c399",
   "metadata": {},
   "outputs": [],
   "source": [
    "garcia = Ship('Garcia', 'frigate', 'USA', (20, 15))\n",
    "ticonderoga = Ship('Ticonderoga', 'destroyer', 'USA', (5, 10))\n",
    "kobayashi = Ship('Kobayashi', 'maru', 'Federation', (10, 22))"
   ]
  },
  {
   "cell_type": "code",
   "execution_count": 29,
   "id": "0309e028-a83e-4e37-9276-07ad60a5eceb",
   "metadata": {},
   "outputs": [
    {
     "name": "stdout",
     "output_type": "stream",
     "text": [
      "Ship(name='Garcia', classification='frigate', registry='USA', location=(20, 15))\n"
     ]
    }
   ],
   "source": [
    "print(garcia)"
   ]
  },
  {
   "cell_type": "code",
   "execution_count": 30,
   "id": "03de9ad8-df67-4d0f-ba11-3fe393136098",
   "metadata": {},
   "outputs": [
    {
     "name": "stdout",
     "output_type": "stream",
     "text": [
      "The frigate Garcia is visible.\n",
      "Garcia is a USA ship.\n",
      "The Garcia is currently at grid position (20, 15)\n",
      "\n",
      "Garcia is 12.21 km from the Kobayashi\n",
      "The destroyer Ticonderoga is visible.\n",
      "Ticonderoga is a USA ship.\n",
      "The Ticonderoga is currently at grid position (5, 10)\n",
      "\n",
      "Garcia is 12.21 km from the Kobayashi\n",
      "The maru Kobayashi is visible.\n",
      "Kobayashi is a Federation ship.\n",
      "The Kobayashi is currently at grid position (10, 22)\n",
      "\n",
      "Garcia is 12.21 km from the Kobayashi\n"
     ]
    }
   ],
   "source": [
    "ships = [garcia, ticonderoga, kobayashi]\n",
    "\n",
    "for ship in ships:\n",
    "    print(f\"The {ship.classification} {ship.name} is visible.\")\n",
    "    print(f\"{ship.name} is a {ship.registry} {ship.obj_type}.\")\n",
    "    print(f\"The {ship.name} is currently at grid position {ship.location}\\n\")\n",
    "    print(f\"Garcia is {garcia.distance_to(kobayashi)} from the Kobayashi\")"
   ]
  },
  {
   "cell_type": "code",
   "execution_count": 31,
   "id": "4f107ce5-e12a-4a37-8df5-7069d2fffb65",
   "metadata": {},
   "outputs": [
    {
     "data": {
      "image/png": "[encoded data removed]",
      "text/plain": [
       "<Figure size 640x480 with 1 Axes>"
      ]
     },
     "metadata": {},
     "output_type": "display_data"
    }
   ],
   "source": [
    "from math import dist\n",
    "from dataclasses import dataclass\n",
    "import matplotlib.pyplot as plt\n",
    "\n",
    "\n",
    "@dataclass\n",
    "class Ship:\n",
    "    name: str\n",
    "    classification: str\n",
    "    registry: str\n",
    "    location: tuple\n",
    "    obj_type = 'ship'\n",
    "    obj_color = 'black'\n",
    " \n",
    "    def distance_to(self, other):\n",
    "        distance = round(dist(self.location, other.location), 2)\n",
    "        return str(distance) + ' ' + 'km'\n",
    " \n",
    " \n",
    "garcia = Ship('Garcia', 'frigate', 'USA', (20, 15))\n",
    "ticonderoga = Ship('Ticonderoga', 'destroyer', 'USA', (5, 10))\n",
    "kobayashi = Ship('Kobayashi', 'maru', 'Federation', (10, 22))\n",
    "\n",
    "VISIBLE_SHIPS = [garcia, ticonderoga, kobayashi]\n",
    "\n",
    "def plot_ship_dist(ship1, ship2):\n",
    "    sep = ship1.distance_to(ship2) \n",
    "    for ship in VISIBLE_SHIPS:\n",
    "        plt.scatter(x=ship.location[0], \n",
    "                    y=ship.location[1],\n",
    "                    marker='d',\n",
    "                    color=ship.obj_color)\n",
    "        plt.text(ship.location[0], ship.location[1], ship.name)\n",
    "    plt.plot([ship1.location[0], ship2.location[0]],\n",
    "             [ship1.location[1], ship2.location[1]],\n",
    "             color='gray', \n",
    "             linestyle=\"--\")\n",
    "    plt.text((ship2.location[0]), \n",
    "             (ship2.location[1] - 2), \n",
    "              sep, \n",
    "              c='gray')\n",
    "    plt.xlim(0, 30)\n",
    "    plt.ylim([0, 30])\n",
    "    plt.show()\n",
    " \n",
    "plot_ship_dist(kobayashi, garcia)"
   ]
  },
  {
   "cell_type": "code",
   "execution_count": 32,
   "id": "4d40d030-bde9-431e-a0e5-0d9fbd7d88e2",
   "metadata": {},
   "outputs": [],
   "source": [
    "from dataclasses import dataclass, field\n",
    "\n",
    "\n",
    "@dataclass\n",
    "class Ship:\n",
    "    name: str\n",
    "    classification: str\n",
    "    registry: str\n",
    "    location: tuple\n",
    "    obj_type = 'ship'\n",
    "    obj_color = 'black'\n",
    "    friendly: bool = field(init=False)\n",
    "\n",
    "    def __post_init__(self):\n",
    "        unfriendlies = ('IKS')\n",
    "        self.friendly = self.registry not in unfriendlies"
   ]
  },
  {
   "cell_type": "code",
   "execution_count": 33,
   "id": "32f069d1-91df-4423-8a6e-b932e23c789d",
   "metadata": {},
   "outputs": [
    {
     "name": "stdout",
     "output_type": "stream",
     "text": [
      "Ship(name='Homer', classification='tug', registry='USA', location=(20, 9), friendly=True)\n",
      "Ship(name='Bortas', classification='D5', registry='IKS', location=(15, 25), friendly=False)\n"
     ]
    }
   ],
   "source": [
    "homer = Ship('Homer', 'tug', 'USA', (20, 9))\n",
    "bortas = Ship('Bortas', 'D5', 'IKS', (15, 25))\n",
    "print(homer)\n",
    "print(bortas)"
   ]
  },
  {
   "cell_type": "code",
   "execution_count": 34,
   "id": "6628b746-4a72-4d3e-af35-cd26bf2f4245",
   "metadata": {},
   "outputs": [],
   "source": [
    "from dataclasses import dataclass\n",
    "\n",
    "\n",
    "@dataclass\n",
    "class Ship:\n",
    "    name: str\n",
    "    classification: str\n",
    "    registry: str\n",
    "    location: tuple\n",
    "\n",
    " \n",
    "@dataclass\n",
    "class ShipSlots:\n",
    "    __slots__ = 'name', 'classification', 'registry', 'location'\n",
    "    name: str\n",
    "    classification: str\n",
    "    registry: str\n",
    "    location: tuple"
   ]
  },
  {
   "cell_type": "code",
   "execution_count": null,
   "id": "b207d7a6-54e7-4f45-a246-62c3a45bf636",
   "metadata": {},
   "outputs": [],
   "source": []
  }
 ],
 "metadata": {
  "kernelspec": {
   "display_name": "Python 3 (ipykernel)",
   "language": "python",
   "name": "python3"
  },
  "language_info": {
   "codemirror_mode": {
    "name": "ipython",
    "version": 3
   },
   "file_extension": ".py",
   "mimetype": "text/x-python",
   "name": "python",
   "nbconvert_exporter": "python",
   "pygments_lexer": "ipython3",
   "version": "3.9.18"
  }
 },
 "nbformat": 4,
 "nbformat_minor": 5
}
